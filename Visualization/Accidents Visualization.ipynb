{
 "cells": [
  {
   "cell_type": "code",
   "execution_count": null,
   "metadata": {},
   "outputs": [],
   "source": [
    "import pandas as pd\n",
    "import numpy as np\n",
    "from datetime import date, datetime\n",
    "import matplotlib.pyplot as plt\n",
    "import seaborn as sns"
   ]
  },
  {
   "cell_type": "code",
   "execution_count": null,
   "metadata": {},
   "outputs": [],
   "source": [
    "import folium\n",
    "from folium import plugins\n",
    "from folium.plugins import HeatMap"
   ]
  },
  {
   "cell_type": "code",
   "execution_count": null,
   "metadata": {},
   "outputs": [],
   "source": [
    "from matplotlib import rcParams\n",
    "import matplotlib\n",
    "%matplotlib inline\n",
    "rcParams['figure.figsize'] = 14, 10\n",
    "sns.set_context('talk')\n",
    "sns.set_style(\"darkgrid\")"
   ]
  },
  {
   "cell_type": "code",
   "execution_count": null,
   "metadata": {},
   "outputs": [],
   "source": [
    "acc = pd.read_csv(\"../data/accidents_data\", index_col=0, encoding = \"UTF8\")"
   ]
  },
  {
   "cell_type": "code",
   "execution_count": null,
   "metadata": {},
   "outputs": [],
   "source": [
    "def cast_date(date):\n",
    "    return datetime.strptime(date, '%Y-%m-%d %H:%M:%S')\n",
    "acc['fecha'] = [cast_date(i) for i in acc.fecha]"
   ]
  },
  {
   "cell_type": "code",
   "execution_count": null,
   "metadata": {},
   "outputs": [],
   "source": [
    "tmp = acc[acc.edad > 0]\n",
    "g = sns.distplot(tmp.edad, bins=13)\n",
    "\n",
    "plt.title('Histograma Edad')\n",
    "plt.xlabel('Edad')\n",
    "plt.show()"
   ]
  },
  {
   "cell_type": "code",
   "execution_count": null,
   "metadata": {},
   "outputs": [],
   "source": [
    "g = sns.distplot(acc.mes, bins=12)\n",
    "\n",
    "plt.title('Histograma Mes')\n",
    "plt.xlabel('Mes')\n",
    "plt.show()"
   ]
  },
  {
   "cell_type": "code",
   "execution_count": null,
   "metadata": {},
   "outputs": [],
   "source": [
    "o1 = ['LUNES', 'MARTES', 'MIERCOLES', 'JUEVES', 'VIERNES', 'SABADO', 'DOMINGO']\n",
    "\n",
    "g = sns.countplot(x='dia_semana', order = o1, data=acc, palette=\"Set1\")\n",
    "\n",
    "plt.title('Accidentes por día de la semana')\n",
    "plt.xlabel('Día de la semana')\n",
    "plt.ylabel(\"Cantidad de accidentes\")\n",
    "plt.show()"
   ]
  },
  {
   "cell_type": "code",
   "execution_count": null,
   "metadata": {},
   "outputs": [],
   "source": [
    "o4 = ['IL', 'HL', 'HG']\n",
    "\n",
    "g = sns.swarmplot(x='lesividad', y='edad', order = o4, data=acc[acc['lesividad'] != 'NO ASIGNADA'])\n",
    "\n",
    "plt.title('Dispersión de accidentes por lesividad y edad')\n",
    "plt.xlabel('Lesividad')\n",
    "plt.ylabel(\"Edad\")\n",
    "plt.show()"
   ]
  },
  {
   "cell_type": "code",
   "execution_count": null,
   "metadata": {},
   "outputs": [],
   "source": [
    "o = ['CENTRO', 'RETIRO', 'CHAMBERI', 'MONCLOA-ARAVACA', 'SALAMANCA', \n",
    " 'CARABANCHEL', 'LATINA', 'TETUAN', 'ARGANZUELA', 'FUENCARRAL-EL PARDO', \n",
    " 'PUENTE DE VALLECAS', 'CHAMARTIN', 'CIUDAD LINEAL', 'SAN BLAS', 'HORTALEZA',\n",
    " 'USERA', 'VILLA DE VALLECAS', 'MORATALAZ', 'VILLAVERDE', 'VICALVARO', 'BARAJAS']\n",
    "\n",
    "g = sns.countplot(y='distrito', data=acc, palette='Set1', order=o )\n",
    "\n",
    "plt.title('Cantidad de accidentes por distrito')\n",
    "plt.xlabel('Cantidad de accidentes')\n",
    "plt.ylabel(\"Distrito\")\n",
    "plt.show()"
   ]
  },
  {
   "cell_type": "code",
   "execution_count": null,
   "metadata": {},
   "outputs": [],
   "source": [
    "g = sns.countplot(x='horain', data=acc, order=o2, palette='Set1')\n",
    "\n",
    "plt.title('Cantidad de accidentes por hora')\n",
    "plt.xlabel('Hora')\n",
    "plt.ylabel(\"Cantidad de accidentes\")\n",
    "plt.show()"
   ]
  },
  {
   "cell_type": "code",
   "execution_count": null,
   "metadata": {},
   "outputs": [],
   "source": [
    "g = sns.catplot(x=\"lesividad\", y='edad', order = o4, col=\"sexo\",\n",
    "                 data=acc[acc.sexo != 'NO ASIGNADO'], palette='BuPu', kind=\"box\", margin_titles=True)"
   ]
  },
  {
   "cell_type": "code",
   "execution_count": null,
   "metadata": {},
   "outputs": [],
   "source": [
    "tmp = acc[(acc.distrito == 'CENTRO') | (acc.distrito == 'RETIRO') | (acc.distrito == 'CHAMBERI') \n",
    "           | (acc.distrito == 'MONCLOA-ARAVACA') | (acc.distrito == 'SALAMANCA')]\n",
    "\n",
    "g = sns.catplot(x=\"mes\", y='distrito', col=\"lluvia\",\n",
    "                 data=tmp, kind=\"swarm\")"
   ]
  },
  {
   "cell_type": "code",
   "execution_count": null,
   "metadata": {},
   "outputs": [],
   "source": [
    "g = sns.lineplot(x=\"mes\", y='victimas', estimator ='sum', data=acc)\n",
    "\n",
    "plt.title('Numero de victimas por mes')\n",
    "plt.xlabel('Mes')\n",
    "plt.ylabel(\"Cantidad de victimas\")\n",
    "plt.show()"
   ]
  },
  {
   "cell_type": "code",
   "execution_count": null,
   "metadata": {},
   "outputs": [],
   "source": [
    "g = sns.countplot(x=\"lesividad\", data=acc[acc.sexo != 'NO ASIGNADO'], hue='sexo', order = o4)\n",
    "\n",
    "plt.title('Tipo de lesion por sexo')\n",
    "plt.xlabel('Lesividad')\n",
    "plt.ylabel(\"Cantidad\")\n",
    "plt.show()"
   ]
  },
  {
   "cell_type": "code",
   "execution_count": null,
   "metadata": {},
   "outputs": [],
   "source": [
    "out = sns.boxplot(x='year', y='annual_user', data=acc)"
   ]
  },
  {
   "cell_type": "code",
   "execution_count": null,
   "metadata": {},
   "outputs": [],
   "source": [
    "g = sns.boxplot(x='month', y='anual_total_use_day', data=data_usos[(data_usos.year != 2014)])\n",
    "\n",
    "plt.title('Uso de BiciMAD por mes')\n",
    "plt.xlabel('Mes')\n",
    "plt.ylabel(\"Numero de uso\")\n",
    "plt.show()"
   ]
  },
  {
   "cell_type": "code",
   "execution_count": null,
   "metadata": {},
   "outputs": [],
   "source": [
    "out = sns.boxplot(x='weekday', y='annual_user', data=acc)\n",
    "\n",
    "plt.title('Uso de BiciMAD por Día de la Semana')\n",
    "plt.xlabel('Día de la Semana')\n",
    "plt.ylabel(\"Cantidad de Usos\")\n",
    "plt.show()"
   ]
  },
  {
   "cell_type": "code",
   "execution_count": null,
   "metadata": {},
   "outputs": [],
   "source": [
    "g = sns.catplot(x=\"month\", y='anual_total_use_day', col=\"year\",\n",
    "                 data=data_set, palette='BuPu', kind=\"box\", margin_titles=True)\n",
    "\n",
    "(g.set_axis_labels(\"Mes\", \"Cantidad de Usos\")\n",
    " .set_titles(\"{col_name} {col_var}\")\n",
    " .despine(left=True))\n",
    "plt.show()"
   ]
  },
  {
   "cell_type": "code",
   "execution_count": null,
   "metadata": {},
   "outputs": [],
   "source": [
    "g = sns.catplot(x=\"day\", y='anual_total_use_day', col=\"year\",\n",
    "                 data=data_set, palette='bright', kind=\"box\", margin_titles=True)\n",
    "\n",
    "(g.set_axis_labels(\"Dia de la Semana\", \"Cantidad de Usos\")\n",
    " .set_titles(\"{col_name} {col_var}\")\n",
    " .despine(left=True))\n",
    "plt.show()"
   ]
  },
  {
   "cell_type": "code",
   "execution_count": null,
   "metadata": {},
   "outputs": [],
   "source": [
    "m = folium.Map(\n",
    "    location=[40.4253, -3.7042],\n",
    "    tiles='OpenStreetMap',\n",
    "    zoom_start=11\n",
    ")\n",
    "\n",
    "for x, i in acc16.iterrows():\n",
    "    \n",
    "    if i.lesividad == 'HG':\n",
    "        color = 'red'\n",
    "    elif i.lesividad == 'HL':\n",
    "        color = 'orange'\n",
    "    else:\n",
    "        color = 'green'\n",
    "    \n",
    "    try: \n",
    "        folium.Marker([i.latitud, i.longitud], popup='Numero de victimas: ' + str(i.victimas), icon=folium.Icon(color=color)).add_to(m)\n",
    "    except:\n",
    "        None\n",
    "m"
   ]
  },
  {
   "cell_type": "code",
   "execution_count": null,
   "metadata": {},
   "outputs": [],
   "source": [
    "m1 = folium.Map(\n",
    "    location=[40.418, -3.7042],\n",
    "    tiles='OpenStreetMap',\n",
    "    zoom_start=14\n",
    ")\n",
    "\n",
    "for x, i in acc[acc['distrito']=='CENTRO'].iterrows():\n",
    "    \n",
    "    if i.lesividad == 'HG':\n",
    "        color = 'red'\n",
    "    elif i.lesividad == 'HL':\n",
    "        color = 'orange'\n",
    "    else:\n",
    "        color = 'green'\n",
    "    \n",
    "    try: \n",
    "        folium.CircleMarker([i.latitud, i.longitud], radius=6.5, popup='Fecha del accidente: ' + \n",
    "                            str(i.fecha), color=color, fill = True, fill_color = color, fill_opacity = 0.4).add_to(m1)\n",
    "    except:\n",
    "        None\n",
    "        \n",
    "\n",
    "m1"
   ]
  },
  {
   "cell_type": "code",
   "execution_count": null,
   "metadata": {},
   "outputs": [],
   "source": [
    "heat_df = acc[(acc['mes']==7) & (acc['distrito']=='CENTRO')] \n",
    "heat_df = heat_df[['latitud', 'longitud']]\n",
    "heat_df = heat_df.dropna(axis=0, subset=['latitud','longitud'])\n",
    "heat_data = [[row['latitud'],row['longitud']] for index, row in heat_df.iterrows()]\n",
    "\n",
    "map_hooray = folium.Map(location=[40.41, -3.7042],\n",
    "                    zoom_start = 13) \n",
    "\n",
    "HeatMap(heat_data).add_to(map_hooray)\n",
    "\n",
    "map_hooray"
   ]
  },
  {
   "cell_type": "code",
   "execution_count": null,
   "metadata": {},
   "outputs": [],
   "source": [
    "map_hooray = folium.Map(location=[40.416, -3.7042],\n",
    "                    zoom_start = 12) \n",
    "\n",
    "ht_df = acc\n",
    "ht_df = ht_df[['latitud', 'longitud']]\n",
    "\n",
    "ht_df['peso'] = acc['fecha'].str[5:7]\n",
    "ht_df['peso'] = ht_df['peso'].astype(float)\n",
    "ht_df = ht_df.dropna(axis=0, subset=['latitud','longitud', 'peso'])\n",
    "\n",
    "\n",
    "ht_data = [[[row['latitud'],row['longitud']] for index, row in ht_df[ht_df['peso'] == i].iterrows()] for i in range(0,13)]\n",
    "\n",
    "hm = plugins.HeatMapWithTime(ht_data,auto_play=False,max_opacity=0.8)\n",
    "hm.add_to(map_hooray)\n",
    "\n",
    "map_hooray"
   ]
  }
 ],
 "metadata": {
  "kernelspec": {
   "display_name": "Python 3",
   "language": "python",
   "name": "python3"
  },
  "language_info": {
   "codemirror_mode": {
    "name": "ipython",
    "version": 3
   },
   "file_extension": ".py",
   "mimetype": "text/x-python",
   "name": "python",
   "nbconvert_exporter": "python",
   "pygments_lexer": "ipython3",
   "version": "3.7.1"
  }
 },
 "nbformat": 4,
 "nbformat_minor": 2
}
